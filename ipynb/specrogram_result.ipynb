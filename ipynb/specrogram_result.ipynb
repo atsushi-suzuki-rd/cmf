{
 "cells": [
  {
   "cell_type": "code",
   "execution_count": 28,
   "metadata": {
    "collapsed": false
   },
   "outputs": [
    {
     "name": "stdout",
     "output_type": "stream",
     "text": [
      "[  6.18063772e+08   6.18701956e+08   6.18063772e+08   6.18083541e+08\n",
      "   6.18810374e+08]\n",
      "[  5.77624680e+08   5.77920179e+08   5.77920179e+08   5.77920179e+08\n",
      "   5.77920179e+08]\n"
     ]
    }
   ],
   "source": [
    "import json\n",
    "import numpy as np\n",
    "dat_dir_path = 'D:/atsushi_result/cmf/dat'\n",
    "experiment_name = '201704161427'\n",
    "cnimf_results = []\n",
    "nmf_results = []\n",
    "for i in range(100):\n",
    "    dir_name = experiment_name + '_' + str(i)\n",
    "    dir_path = dat_dir_path + '/' + dir_name\n",
    "    json_dir_path = dir_path + '/json'\n",
    "    cnimf_json_path = json_dir_path + '/cnimf_criteria_completion.json'\n",
    "    nmf_json_path = json_dir_path + '/nmf_criteria_completion.json'\n",
    "    with open(cnimf_json_path, mode='r', encoding='utf8') as cnimf_json_file:\n",
    "        cnimf_result_dic = json.load(cnimf_json_file)\n",
    "        cnimf_result_list = [cnimf_result_dic['factorization AIC'], cnimf_result_dic['factorization BIC'], cnimf_result_dic['AIC with LVC'], cnimf_result_dic['BIC with LVC'], cnimf_result_dic['NML with LVC']]\n",
    "        cnimf_results.append(cnimf_result_list)\n",
    "    with open(nmf_json_path, mode='r', encoding='utf8') as nmf_json_file:\n",
    "        nmf_result_dic = json.load(nmf_json_file)\n",
    "        nmf_result_list = [nmf_result_dic['factorization AIC'], nmf_result_dic['factorization BIC'], nmf_result_dic['AIC with LVC'], nmf_result_dic['BIC with LVC'], nmf_result_dic['NML with LVC']]\n",
    "        nmf_results.append(nmf_result_list)\n",
    "cnimf_results = np.array(cnimf_results)\n",
    "nmf_results = np.array(nmf_results)\n",
    "print(np.mean(cnimf_results, axis=0))\n",
    "print(np.mean(nmf_results, axis=0))\n"
   ]
  },
  {
   "cell_type": "code",
   "execution_count": null,
   "metadata": {
    "collapsed": true
   },
   "outputs": [],
   "source": []
  }
 ],
 "metadata": {
  "kernelspec": {
   "display_name": "Python 3",
   "language": "python",
   "name": "python3"
  },
  "language_info": {
   "codemirror_mode": {
    "name": "ipython",
    "version": 3
   },
   "file_extension": ".py",
   "mimetype": "text/x-python",
   "name": "python",
   "nbconvert_exporter": "python",
   "pygments_lexer": "ipython3",
   "version": "3.5.2"
  }
 },
 "nbformat": 4,
 "nbformat_minor": 2
}
