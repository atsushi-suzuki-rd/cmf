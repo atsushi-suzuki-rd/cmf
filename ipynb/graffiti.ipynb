{
 "cells": [
  {
   "cell_type": "code",
   "execution_count": 1,
   "metadata": {
    "collapsed": false
   },
   "outputs": [],
   "source": [
    "import sys,os\n",
    "sys.path.append(os.pardir)\n",
    "from cmf.crmf import CRMF\n",
    "import numpy as np"
   ]
  },
  {
   "cell_type": "code",
   "execution_count": 2,
   "metadata": {
    "collapsed": true
   },
   "outputs": [],
   "source": [
    "A = np.array([4, 5, -4, -2, 1, 3, -5, -1, 0, -4])\n",
    "B = 2 * np.ones(A.shape)"
   ]
  },
  {
   "cell_type": "code",
   "execution_count": 3,
   "metadata": {
    "collapsed": false
   },
   "outputs": [
    {
     "data": {
      "text/plain": [
       "array([ 2,  3, -2,  0,  0,  1, -3,  0,  0, -2])"
      ]
     },
     "execution_count": 3,
     "metadata": {},
     "output_type": "execute_result"
    }
   ],
   "source": [
    "CRMF.shrink(A, B)"
   ]
  },
  {
   "cell_type": "code",
   "execution_count": 4,
   "metadata": {
    "collapsed": false
   },
   "outputs": [],
   "source": [
    "n_sheets = 2\n",
    "n_rows = 3\n",
    "n_cols = 4\n",
    "A = np.array(range(n_sheets * n_rows * n_cols)).reshape([n_sheets, n_rows, n_cols])\n",
    "b = np.array(range(n_cols))"
   ]
  },
  {
   "cell_type": "code",
   "execution_count": 5,
   "metadata": {
    "collapsed": false
   },
   "outputs": [],
   "source": [
    "n_rows = 3\n",
    "n_cols = 4\n",
    "A = np.array(range(n_rows * n_cols)).reshape([n_rows, n_cols])\n",
    "b = np.array(range(n_cols))"
   ]
  },
  {
   "cell_type": "code",
   "execution_count": 6,
   "metadata": {
    "collapsed": false,
    "scrolled": true
   },
   "outputs": [
    {
     "name": "stdout",
     "output_type": "stream",
     "text": [
      "[[ 0  1  2  3]\n",
      " [ 4  5  6  7]\n",
      " [ 8  9 10 11]]\n",
      "[[0 1 2 3]]\n",
      "[[ 0  1  4  9]\n",
      " [ 0  5 12 21]\n",
      " [ 0  9 20 33]]\n"
     ]
    }
   ],
   "source": [
    "print(A)\n",
    "print(b[np.newaxis, :])\n",
    "print(A * b[np.newaxis, :])"
   ]
  },
  {
   "cell_type": "code",
   "execution_count": 7,
   "metadata": {
    "collapsed": false
   },
   "outputs": [
    {
     "data": {
      "text/plain": [
       "array([[  0,   0,   0,   0,   0,   0,   0,   0,   0,   0,   0,   0,   0,\n",
       "          0,   0,   0,   0,   0,   0,   0],\n",
       "       [  0,   1,   2,   3,   4,   5,   6,   7,   8,   9,  10,  11,  12,\n",
       "         13,  14,  15,  16,  17,  18,  19],\n",
       "       [  0,   2,   4,   6,   8,  10,  12,  14,  16,  18,  20,  22,  24,\n",
       "         26,  28,  30,  32,  34,  36,  38],\n",
       "       [  0,   3,   6,   9,  12,  15,  18,  21,  24,  27,  30,  33,  36,\n",
       "         39,  42,  45,  48,  51,  54,  57],\n",
       "       [  0,   4,   8,  12,  16,  20,  24,  28,  32,  36,  40,  44,  48,\n",
       "         52,  56,  60,  64,  68,  72,  76],\n",
       "       [  0,   5,  10,  15,  20,  25,  30,  35,  40,  45,  50,  55,  60,\n",
       "         65,  70,  75,  80,  85,  90,  95],\n",
       "       [  0,   6,  12,  18,  24,  30,  36,  42,  48,  54,  60,  66,  72,\n",
       "         78,  84,  90,  96, 102, 108, 114],\n",
       "       [  0,   7,  14,  21,  28,  35,  42,  49,  56,  63,  70,  77,  84,\n",
       "         91,  98, 105, 112, 119, 126, 133],\n",
       "       [  0,   8,  16,  24,  32,  40,  48,  56,  64,  72,  80,  88,  96,\n",
       "        104, 112, 120, 128, 136, 144, 152],\n",
       "       [  0,   9,  18,  27,  36,  45,  54,  63,  72,  81,  90,  99, 108,\n",
       "        117, 126, 135, 144, 153, 162, 171]])"
      ]
     },
     "execution_count": 7,
     "metadata": {},
     "output_type": "execute_result"
    }
   ],
   "source": [
    "np.array(range(10))[:, np.newaxis] * np.array(range(20))[np.newaxis, :] "
   ]
  },
  {
   "cell_type": "code",
   "execution_count": 28,
   "metadata": {
    "collapsed": false
   },
   "outputs": [],
   "source": [
    "A = (np.array(range(120))).reshape([30,4])"
   ]
  },
  {
   "cell_type": "code",
   "execution_count": 29,
   "metadata": {
    "collapsed": false
   },
   "outputs": [
    {
     "data": {
      "text/plain": [
       "array([[  8,   9,  10,  11,   4,   5,   6,   7,   0,   1,   2,   3, 116,\n",
       "        117, 118, 119],\n",
       "       [ 12,  13,  14,  15,   8,   9,  10,  11,   4,   5,   6,   7,   0,\n",
       "          1,   2,   3],\n",
       "       [ 16,  17,  18,  19,  12,  13,  14,  15,   8,   9,  10,  11,   4,\n",
       "          5,   6,   7],\n",
       "       [ 20,  21,  22,  23,  16,  17,  18,  19,  12,  13,  14,  15,   8,\n",
       "          9,  10,  11],\n",
       "       [ 24,  25,  26,  27,  20,  21,  22,  23,  16,  17,  18,  19,  12,\n",
       "         13,  14,  15],\n",
       "       [ 28,  29,  30,  31,  24,  25,  26,  27,  20,  21,  22,  23,  16,\n",
       "         17,  18,  19],\n",
       "       [ 32,  33,  34,  35,  28,  29,  30,  31,  24,  25,  26,  27,  20,\n",
       "         21,  22,  23],\n",
       "       [ 36,  37,  38,  39,  32,  33,  34,  35,  28,  29,  30,  31,  24,\n",
       "         25,  26,  27],\n",
       "       [ 40,  41,  42,  43,  36,  37,  38,  39,  32,  33,  34,  35,  28,\n",
       "         29,  30,  31],\n",
       "       [ 44,  45,  46,  47,  40,  41,  42,  43,  36,  37,  38,  39,  32,\n",
       "         33,  34,  35],\n",
       "       [ 48,  49,  50,  51,  44,  45,  46,  47,  40,  41,  42,  43,  36,\n",
       "         37,  38,  39],\n",
       "       [ 52,  53,  54,  55,  48,  49,  50,  51,  44,  45,  46,  47,  40,\n",
       "         41,  42,  43],\n",
       "       [ 56,  57,  58,  59,  52,  53,  54,  55,  48,  49,  50,  51,  44,\n",
       "         45,  46,  47],\n",
       "       [ 60,  61,  62,  63,  56,  57,  58,  59,  52,  53,  54,  55,  48,\n",
       "         49,  50,  51],\n",
       "       [ 64,  65,  66,  67,  60,  61,  62,  63,  56,  57,  58,  59,  52,\n",
       "         53,  54,  55],\n",
       "       [ 68,  69,  70,  71,  64,  65,  66,  67,  60,  61,  62,  63,  56,\n",
       "         57,  58,  59],\n",
       "       [ 72,  73,  74,  75,  68,  69,  70,  71,  64,  65,  66,  67,  60,\n",
       "         61,  62,  63],\n",
       "       [ 76,  77,  78,  79,  72,  73,  74,  75,  68,  69,  70,  71,  64,\n",
       "         65,  66,  67],\n",
       "       [ 80,  81,  82,  83,  76,  77,  78,  79,  72,  73,  74,  75,  68,\n",
       "         69,  70,  71],\n",
       "       [ 84,  85,  86,  87,  80,  81,  82,  83,  76,  77,  78,  79,  72,\n",
       "         73,  74,  75],\n",
       "       [ 88,  89,  90,  91,  84,  85,  86,  87,  80,  81,  82,  83,  76,\n",
       "         77,  78,  79],\n",
       "       [ 92,  93,  94,  95,  88,  89,  90,  91,  84,  85,  86,  87,  80,\n",
       "         81,  82,  83],\n",
       "       [ 96,  97,  98,  99,  92,  93,  94,  95,  88,  89,  90,  91,  84,\n",
       "         85,  86,  87],\n",
       "       [100, 101, 102, 103,  96,  97,  98,  99,  92,  93,  94,  95,  88,\n",
       "         89,  90,  91],\n",
       "       [104, 105, 106, 107, 100, 101, 102, 103,  96,  97,  98,  99,  92,\n",
       "         93,  94,  95],\n",
       "       [108, 109, 110, 111, 104, 105, 106, 107, 100, 101, 102, 103,  96,\n",
       "         97,  98,  99],\n",
       "       [112, 113, 114, 115, 108, 109, 110, 111, 104, 105, 106, 107, 100,\n",
       "        101, 102, 103],\n",
       "       [116, 117, 118, 119, 112, 113, 114, 115, 108, 109, 110, 111, 104,\n",
       "        105, 106, 107],\n",
       "       [  0,   1,   2,   3, 116, 117, 118, 119, 112, 113, 114, 115, 108,\n",
       "        109, 110, 111],\n",
       "       [  4,   5,   6,   7,   0,   1,   2,   3, 116, 117, 118, 119, 112,\n",
       "        113, 114, 115]])"
      ]
     },
     "execution_count": 29,
     "metadata": {},
     "output_type": "execute_result"
    }
   ],
   "source": [
    "np.concatenate([np.roll(A, i, axis=0) for i in range(-2, 2)], axis = 1)"
   ]
  },
  {
   "cell_type": "code",
   "execution_count": 6,
   "metadata": {
    "collapsed": false
   },
   "outputs": [],
   "source": [
    "import numpy as np\n",
    "from sklearn.decomposition import PCA\n",
    "X = np.reshape(np.arange(12, dtype='float'), (3, 4))\n",
    "pca = PCA()\n",
    "pca.fit(X)\n",
    "W = np.array(X)\n",
    "W[2, 1] = np.nan\n",
    "# Z = pca.transform(W)\n",
    "# V = pca.inverse_transform(Z)"
   ]
  },
  {
   "cell_type": "code",
   "execution_count": 1,
   "metadata": {
    "collapsed": true
   },
   "outputs": [],
   "source": [
    "import pyper"
   ]
  },
  {
   "cell_type": "code",
   "execution_count": 2,
   "metadata": {
    "collapsed": false
   },
   "outputs": [],
   "source": [
    "r = pyper.R(use_pandas='True', use_numpy=True)"
   ]
  },
  {
   "cell_type": "code",
   "execution_count": 68,
   "metadata": {
    "collapsed": false
   },
   "outputs": [
    {
     "data": {
      "text/plain": [
       "'print(\"R command at time: 1507098938.797265\")\\r\\n[1] \"R command at time: 1507098938.797265\"\\r\\n> try({source(\"http://bioconductor.org/biocLite.R\")})\\r\\nBioconductor version 3.5 (BiocInstaller 1.26.1), ?biocLite for help\\r\\n'"
      ]
     },
     "execution_count": 68,
     "metadata": {},
     "output_type": "execute_result"
    }
   ],
   "source": [
    "# r('source(\"http://bioconductor.org/biocLite.R\")')"
   ]
  },
  {
   "cell_type": "code",
   "execution_count": 69,
   "metadata": {
    "collapsed": false
   },
   "outputs": [
    {
     "data": {
      "text/plain": [
       "'> try({biocLite(\"pcaMethods\")})\\r\\nBioC_mirror: https://bioconductor.org\\r\\nUsing Bioconductor 3.5 (BiocInstaller 1.26.1), R 3.4.2 (2017-09-28).\\r\\nInstalling package(s) \\'pcaMethods\\'\\r\\n'"
      ]
     },
     "execution_count": 69,
     "metadata": {},
     "output_type": "execute_result"
    }
   ],
   "source": [
    "# r('biocLite(\"pcaMethods\")')"
   ]
  },
  {
   "cell_type": "code",
   "execution_count": 50,
   "metadata": {
    "collapsed": false
   },
   "outputs": [
    {
     "data": {
      "text/plain": [
       "'try({library(pcaMethods)})\\r\\n'"
      ]
     },
     "execution_count": 50,
     "metadata": {},
     "output_type": "execute_result"
    }
   ],
   "source": [
    "r('library(pcaMethods)')"
   ]
  },
  {
   "cell_type": "code",
   "execution_count": 51,
   "metadata": {
    "collapsed": false
   },
   "outputs": [
    {
     "data": {
      "text/plain": [
       "'try({listPcaMethods()})\\r\\n [1] \"svd\"          \"nipals\"       \"rnipals\"      \"bpca\"         \"ppca\"        \\r\\n [6] \"svdImpute\"    \"robustPca\"    \"nlpca\"        \"llsImpute\"    \"llsImputeAll\"\\r\\n'"
      ]
     },
     "execution_count": 51,
     "metadata": {},
     "output_type": "execute_result"
    }
   ],
   "source": [
    "r('listPcaMethods()')"
   ]
  },
  {
   "cell_type": "code",
   "execution_count": 84,
   "metadata": {
    "collapsed": false
   },
   "outputs": [],
   "source": [
    "Z = np.reshape(np.arange(12, dtype='float'), (6, 2))\n",
    "W = np.reshape(np.arange(1, 13, dtype='float'), (6, 2)) / 2.\n",
    "Th = np.reshape(np.arange(8, dtype='float'), (2, 4))\n",
    "X = Z @ Th\n",
    "X += np.random.normal(0, 0.01, X.shape)\n",
    "Y = W @ Th\n",
    "F = np.ones(X.shape)\n",
    "F[0][1] = 0\n",
    "F[1][1] = 0\n",
    "F[1][3] = 0\n",
    "F[2][0] = 0\n",
    "F[4][2] = 0\n",
    "F[5][0] = 0\n",
    "# print(X, Y, F)"
   ]
  },
  {
   "cell_type": "code",
   "execution_count": 85,
   "metadata": {
    "collapsed": false
   },
   "outputs": [
    {
     "data": {
      "text/plain": [
       "'try({Ymiss[F==0] <- NA})\\r\\n'"
      ]
     },
     "execution_count": 85,
     "metadata": {},
     "output_type": "execute_result"
    }
   ],
   "source": [
    "r.assign('X', X)\n",
    "r.assign('Y', Y)\n",
    "r.assign('F', F)\n",
    "r('Ymiss <- Y')\n",
    "r('Ymiss[F==0] <- NA')\n",
    "# r('print(Ymiss)')"
   ]
  },
  {
   "cell_type": "code",
   "execution_count": 108,
   "metadata": {
    "collapsed": false
   },
   "outputs": [
    {
     "data": {
      "text/plain": [
       "'try({Xpca <- pca(X, method=\"svd\", nPcs=2, threshold = 1e-05)})\\r\\n'"
      ]
     },
     "execution_count": 108,
     "metadata": {},
     "output_type": "execute_result"
    }
   ],
   "source": [
    "r('Xpca <- pca(X, method=\"svd\", nPcs=2, threshold = 1e-05)')"
   ]
  },
  {
   "cell_type": "code",
   "execution_count": 109,
   "metadata": {
    "collapsed": false
   },
   "outputs": [
    {
     "data": {
      "text/plain": [
       "'try({print(Xpca@completeObs)})\\r\\n          [,1]      [,2]     [,3]       [,4]\\r\\n[1,]  3.987602  5.003313  5.99307   7.002383\\r\\n[2,] 11.988555 16.992501 21.99176  27.019266\\r\\n[3,] 19.996882 28.999022 38.00758  46.994565\\r\\n[4,] 28.000402 41.006585 54.01529  66.996480\\r\\n[5,] 35.988282 53.010112 69.98546  87.001479\\r\\n[6,] 44.010209 65.010762 86.01395 106.996489\\r\\n'"
      ]
     },
     "execution_count": 109,
     "metadata": {},
     "output_type": "execute_result"
    }
   ],
   "source": [
    "r('print(Xpca@completeObs)')"
   ]
  },
  {
   "cell_type": "code",
   "execution_count": 110,
   "metadata": {
    "collapsed": false
   },
   "outputs": [
    {
     "data": {
      "text/plain": [
       "'try({Ypredict <- predict(Xpca, Ymiss)})\\r\\n'"
      ]
     },
     "execution_count": 110,
     "metadata": {},
     "output_type": "execute_result"
    }
   ],
   "source": [
    "r('Ypredict <- predict(Xpca, Ymiss)')"
   ]
  },
  {
   "cell_type": "code",
   "execution_count": 111,
   "metadata": {
    "collapsed": false
   },
   "outputs": [
    {
     "data": {
      "text/plain": [
       "'try({print(Ypredict)})\\r\\n$scores\\r\\n            PC1         PC2\\r\\n[1,] -59.670951  -2.4306019\\r\\n[2,] -21.231507 -26.6670022\\r\\n[3,] -39.058081   3.9053740\\r\\n[4,] -27.626993  -0.3116121\\r\\n[5,]  -9.118707   4.4393520\\r\\n[6,]   1.765610  -0.3175061\\r\\n\\r\\n$x\\r\\n          [,1]     [,2]     [,3]     [,4]\\r\\n[1,]  6.895238 10.81417 11.86701 17.96536\\r\\n[2,]  8.844698 28.25556 16.33887 59.64262\\r\\n[3,] 14.733610 18.77432 27.38985 27.92891\\r\\n[4,] 16.364096 23.74560 30.74988 38.40702\\r\\n[5,] 23.072539 30.96060 44.05095 47.95430\\r\\n[6,] 24.364464 35.74752 46.74680 58.40632\\r\\n\\r\\n'"
      ]
     },
     "execution_count": 111,
     "metadata": {},
     "output_type": "execute_result"
    }
   ],
   "source": [
    "r('print(Ypredict)')"
   ]
  },
  {
   "cell_type": "code",
   "execution_count": 112,
   "metadata": {
    "collapsed": false
   },
   "outputs": [
    {
     "name": "stdout",
     "output_type": "stream",
     "text": [
      "[[  6.89523788  10.81417117  11.86701221  17.96536311]\n",
      " [  8.84469764  28.25555614  16.33887205  59.64262486]\n",
      " [ 14.73360986  18.77432167  27.38985472  27.92891127]\n",
      " [ 16.36409618  23.74560444  30.74987801  38.40702455]\n",
      " [ 23.0725393   30.96059818  44.05095267  47.95429508]\n",
      " [ 24.36446374  35.747516    46.74680319  58.40631851]]\n"
     ]
    }
   ],
   "source": [
    "Yhat = r.get('Ypredict$x')\n",
    "print(Yhat)"
   ]
  },
  {
   "cell_type": "code",
   "execution_count": 21,
   "metadata": {
    "collapsed": false
   },
   "outputs": [
    {
     "data": {
      "text/plain": [
       "'try({print(Xhat@completeObs)})\\r\\n     [,1]     [,2] [,3] [,4]\\r\\n[1,]    4 15.00254    6    7\\r\\n[2,]   12 17.00000   22   27\\r\\n[3,]   20 29.00000   38   47\\r\\n[4,]   28 41.00000   54   67\\r\\n[5,]   36 53.00000   70   87\\r\\n[6,]   44 65.00000   86  107\\r\\n'"
      ]
     },
     "execution_count": 21,
     "metadata": {},
     "output_type": "execute_result"
    }
   ],
   "source": [
    "r('print(Xhat@completeObs)')"
   ]
  },
  {
   "cell_type": "code",
   "execution_count": 24,
   "metadata": {
    "collapsed": false
   },
   "outputs": [
    {
     "name": "stdout",
     "output_type": "stream",
     "text": [
      "[[   4.          15.0025361    6.           7.       ]\n",
      " [  12.          17.          22.          27.       ]\n",
      " [  20.          29.          38.          47.       ]\n",
      " [  28.          41.          54.          67.       ]\n",
      " [  36.          53.          70.          87.       ]\n",
      " [  44.          65.          86.         107.       ]]\n"
     ]
    }
   ],
   "source": [
    "Xhat = r.get('Xhat@completeObs')\n",
    "print(Xhat)"
   ]
  },
  {
   "cell_type": "code",
   "execution_count": 47,
   "metadata": {
    "collapsed": false
   },
   "outputs": [
    {
     "data": {
      "text/plain": [
       "'try({rm(list=ls())})\\r\\n'"
      ]
     },
     "execution_count": 47,
     "metadata": {},
     "output_type": "execute_result"
    }
   ],
   "source": [
    "r('rm(list=ls())')"
   ]
  },
  {
   "cell_type": "code",
   "execution_count": 45,
   "metadata": {
    "collapsed": false
   },
   "outputs": [
    {
     "data": {
      "text/plain": [
       "'> print(\"R command at time: 1507097999.7916412\")\\r\\n[1] \"R command at time: 1507097999.7916412\"\\r\\n> try({print(What)})\\r\\n'"
      ]
     },
     "execution_count": 45,
     "metadata": {},
     "output_type": "execute_result"
    }
   ],
   "source": [
    "r('print(What)')"
   ]
  },
  {
   "cell_type": "code",
   "execution_count": 120,
   "metadata": {
    "collapsed": false
   },
   "outputs": [
    {
     "name": "stdout",
     "output_type": "stream",
     "text": [
      "0 5\n",
      "1 6\n",
      "2 7\n"
     ]
    }
   ],
   "source": [
    "a = [list(range(0,3)), list(range(5,8))]\n",
    "tuple(a)\n",
    "for b in zip(*tuple(a)):\n",
    "    print(b[0], b[1])"
   ]
  },
  {
   "cell_type": "code",
   "execution_count": null,
   "metadata": {
    "collapsed": true
   },
   "outputs": [],
   "source": []
  }
 ],
 "metadata": {
  "kernelspec": {
   "display_name": "Python 3",
   "language": "python",
   "name": "python3"
  },
  "language_info": {
   "codemirror_mode": {
    "name": "ipython",
    "version": 3
   },
   "file_extension": ".py",
   "mimetype": "text/x-python",
   "name": "python",
   "nbconvert_exporter": "python",
   "pygments_lexer": "ipython3",
   "version": "3.6.0"
  }
 },
 "nbformat": 4,
 "nbformat_minor": 2
}
