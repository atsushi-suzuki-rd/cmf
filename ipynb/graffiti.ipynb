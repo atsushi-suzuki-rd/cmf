{
 "cells": [
  {
   "cell_type": "code",
   "execution_count": 1,
   "metadata": {
    "collapsed": false
   },
   "outputs": [],
   "source": [
    "import sys,os\n",
    "sys.path.append(os.pardir)\n",
    "from cmf.crmf import CRMF\n",
    "import numpy as np"
   ]
  },
  {
   "cell_type": "code",
   "execution_count": 2,
   "metadata": {
    "collapsed": true
   },
   "outputs": [],
   "source": [
    "A = np.array([4, 5, -4, -2, 1, 3, -5, -1, 0, -4])\n",
    "B = 2 * np.ones(A.shape)"
   ]
  },
  {
   "cell_type": "code",
   "execution_count": 3,
   "metadata": {
    "collapsed": false
   },
   "outputs": [
    {
     "data": {
      "text/plain": [
       "array([ 2,  3, -2,  0,  0,  1, -3,  0,  0, -2])"
      ]
     },
     "execution_count": 3,
     "metadata": {},
     "output_type": "execute_result"
    }
   ],
   "source": [
    "CRMF.shrink(A, B)"
   ]
  },
  {
   "cell_type": "code",
   "execution_count": 4,
   "metadata": {
    "collapsed": false
   },
   "outputs": [],
   "source": [
    "n_sheets = 2\n",
    "n_rows = 3\n",
    "n_cols = 4\n",
    "A = np.array(range(n_sheets * n_rows * n_cols)).reshape([n_sheets, n_rows, n_cols])\n",
    "b = np.array(range(n_cols))"
   ]
  },
  {
   "cell_type": "code",
   "execution_count": 5,
   "metadata": {
    "collapsed": false
   },
   "outputs": [],
   "source": [
    "n_rows = 3\n",
    "n_cols = 4\n",
    "A = np.array(range(n_rows * n_cols)).reshape([n_rows, n_cols])\n",
    "b = np.array(range(n_cols))"
   ]
  },
  {
   "cell_type": "code",
   "execution_count": 6,
   "metadata": {
    "collapsed": false,
    "scrolled": true
   },
   "outputs": [
    {
     "name": "stdout",
     "output_type": "stream",
     "text": [
      "[[ 0  1  2  3]\n",
      " [ 4  5  6  7]\n",
      " [ 8  9 10 11]]\n",
      "[[0 1 2 3]]\n",
      "[[ 0  1  4  9]\n",
      " [ 0  5 12 21]\n",
      " [ 0  9 20 33]]\n"
     ]
    }
   ],
   "source": [
    "print(A)\n",
    "print(b[np.newaxis, :])\n",
    "print(A * b[np.newaxis, :])"
   ]
  },
  {
   "cell_type": "code",
   "execution_count": 7,
   "metadata": {
    "collapsed": false
   },
   "outputs": [
    {
     "data": {
      "text/plain": [
       "array([[  0,   0,   0,   0,   0,   0,   0,   0,   0,   0,   0,   0,   0,\n",
       "          0,   0,   0,   0,   0,   0,   0],\n",
       "       [  0,   1,   2,   3,   4,   5,   6,   7,   8,   9,  10,  11,  12,\n",
       "         13,  14,  15,  16,  17,  18,  19],\n",
       "       [  0,   2,   4,   6,   8,  10,  12,  14,  16,  18,  20,  22,  24,\n",
       "         26,  28,  30,  32,  34,  36,  38],\n",
       "       [  0,   3,   6,   9,  12,  15,  18,  21,  24,  27,  30,  33,  36,\n",
       "         39,  42,  45,  48,  51,  54,  57],\n",
       "       [  0,   4,   8,  12,  16,  20,  24,  28,  32,  36,  40,  44,  48,\n",
       "         52,  56,  60,  64,  68,  72,  76],\n",
       "       [  0,   5,  10,  15,  20,  25,  30,  35,  40,  45,  50,  55,  60,\n",
       "         65,  70,  75,  80,  85,  90,  95],\n",
       "       [  0,   6,  12,  18,  24,  30,  36,  42,  48,  54,  60,  66,  72,\n",
       "         78,  84,  90,  96, 102, 108, 114],\n",
       "       [  0,   7,  14,  21,  28,  35,  42,  49,  56,  63,  70,  77,  84,\n",
       "         91,  98, 105, 112, 119, 126, 133],\n",
       "       [  0,   8,  16,  24,  32,  40,  48,  56,  64,  72,  80,  88,  96,\n",
       "        104, 112, 120, 128, 136, 144, 152],\n",
       "       [  0,   9,  18,  27,  36,  45,  54,  63,  72,  81,  90,  99, 108,\n",
       "        117, 126, 135, 144, 153, 162, 171]])"
      ]
     },
     "execution_count": 7,
     "metadata": {},
     "output_type": "execute_result"
    }
   ],
   "source": [
    "np.array(range(10))[:, np.newaxis] * np.array(range(20))[np.newaxis, :] "
   ]
  },
  {
   "cell_type": "code",
   "execution_count": 28,
   "metadata": {
    "collapsed": false
   },
   "outputs": [],
   "source": [
    "A = (np.array(range(120))).reshape([30,4])"
   ]
  },
  {
   "cell_type": "code",
   "execution_count": 29,
   "metadata": {
    "collapsed": false
   },
   "outputs": [
    {
     "data": {
      "text/plain": [
       "array([[  8,   9,  10,  11,   4,   5,   6,   7,   0,   1,   2,   3, 116,\n",
       "        117, 118, 119],\n",
       "       [ 12,  13,  14,  15,   8,   9,  10,  11,   4,   5,   6,   7,   0,\n",
       "          1,   2,   3],\n",
       "       [ 16,  17,  18,  19,  12,  13,  14,  15,   8,   9,  10,  11,   4,\n",
       "          5,   6,   7],\n",
       "       [ 20,  21,  22,  23,  16,  17,  18,  19,  12,  13,  14,  15,   8,\n",
       "          9,  10,  11],\n",
       "       [ 24,  25,  26,  27,  20,  21,  22,  23,  16,  17,  18,  19,  12,\n",
       "         13,  14,  15],\n",
       "       [ 28,  29,  30,  31,  24,  25,  26,  27,  20,  21,  22,  23,  16,\n",
       "         17,  18,  19],\n",
       "       [ 32,  33,  34,  35,  28,  29,  30,  31,  24,  25,  26,  27,  20,\n",
       "         21,  22,  23],\n",
       "       [ 36,  37,  38,  39,  32,  33,  34,  35,  28,  29,  30,  31,  24,\n",
       "         25,  26,  27],\n",
       "       [ 40,  41,  42,  43,  36,  37,  38,  39,  32,  33,  34,  35,  28,\n",
       "         29,  30,  31],\n",
       "       [ 44,  45,  46,  47,  40,  41,  42,  43,  36,  37,  38,  39,  32,\n",
       "         33,  34,  35],\n",
       "       [ 48,  49,  50,  51,  44,  45,  46,  47,  40,  41,  42,  43,  36,\n",
       "         37,  38,  39],\n",
       "       [ 52,  53,  54,  55,  48,  49,  50,  51,  44,  45,  46,  47,  40,\n",
       "         41,  42,  43],\n",
       "       [ 56,  57,  58,  59,  52,  53,  54,  55,  48,  49,  50,  51,  44,\n",
       "         45,  46,  47],\n",
       "       [ 60,  61,  62,  63,  56,  57,  58,  59,  52,  53,  54,  55,  48,\n",
       "         49,  50,  51],\n",
       "       [ 64,  65,  66,  67,  60,  61,  62,  63,  56,  57,  58,  59,  52,\n",
       "         53,  54,  55],\n",
       "       [ 68,  69,  70,  71,  64,  65,  66,  67,  60,  61,  62,  63,  56,\n",
       "         57,  58,  59],\n",
       "       [ 72,  73,  74,  75,  68,  69,  70,  71,  64,  65,  66,  67,  60,\n",
       "         61,  62,  63],\n",
       "       [ 76,  77,  78,  79,  72,  73,  74,  75,  68,  69,  70,  71,  64,\n",
       "         65,  66,  67],\n",
       "       [ 80,  81,  82,  83,  76,  77,  78,  79,  72,  73,  74,  75,  68,\n",
       "         69,  70,  71],\n",
       "       [ 84,  85,  86,  87,  80,  81,  82,  83,  76,  77,  78,  79,  72,\n",
       "         73,  74,  75],\n",
       "       [ 88,  89,  90,  91,  84,  85,  86,  87,  80,  81,  82,  83,  76,\n",
       "         77,  78,  79],\n",
       "       [ 92,  93,  94,  95,  88,  89,  90,  91,  84,  85,  86,  87,  80,\n",
       "         81,  82,  83],\n",
       "       [ 96,  97,  98,  99,  92,  93,  94,  95,  88,  89,  90,  91,  84,\n",
       "         85,  86,  87],\n",
       "       [100, 101, 102, 103,  96,  97,  98,  99,  92,  93,  94,  95,  88,\n",
       "         89,  90,  91],\n",
       "       [104, 105, 106, 107, 100, 101, 102, 103,  96,  97,  98,  99,  92,\n",
       "         93,  94,  95],\n",
       "       [108, 109, 110, 111, 104, 105, 106, 107, 100, 101, 102, 103,  96,\n",
       "         97,  98,  99],\n",
       "       [112, 113, 114, 115, 108, 109, 110, 111, 104, 105, 106, 107, 100,\n",
       "        101, 102, 103],\n",
       "       [116, 117, 118, 119, 112, 113, 114, 115, 108, 109, 110, 111, 104,\n",
       "        105, 106, 107],\n",
       "       [  0,   1,   2,   3, 116, 117, 118, 119, 112, 113, 114, 115, 108,\n",
       "        109, 110, 111],\n",
       "       [  4,   5,   6,   7,   0,   1,   2,   3, 116, 117, 118, 119, 112,\n",
       "        113, 114, 115]])"
      ]
     },
     "execution_count": 29,
     "metadata": {},
     "output_type": "execute_result"
    }
   ],
   "source": [
    "np.concatenate([np.roll(A, i, axis=0) for i in range(-2, 2)], axis = 1)"
   ]
  },
  {
   "cell_type": "code",
   "execution_count": null,
   "metadata": {
    "collapsed": true
   },
   "outputs": [],
   "source": []
  }
 ],
 "metadata": {
  "kernelspec": {
   "display_name": "Python 3",
   "language": "python",
   "name": "python3"
  },
  "language_info": {
   "codemirror_mode": {
    "name": "ipython",
    "version": 3
   },
   "file_extension": ".py",
   "mimetype": "text/x-python",
   "name": "python",
   "nbconvert_exporter": "python",
   "pygments_lexer": "ipython3",
   "version": "3.5.2"
  }
 },
 "nbformat": 4,
 "nbformat_minor": 2
}
