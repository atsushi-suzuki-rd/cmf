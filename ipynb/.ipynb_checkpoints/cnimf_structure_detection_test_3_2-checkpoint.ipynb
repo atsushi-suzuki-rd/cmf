{
 "cells": [
  {
   "cell_type": "code",
   "execution_count": 4,
   "metadata": {
    "collapsed": false
   },
   "outputs": [],
   "source": [
    "import os\n",
    "import sys\n",
    "sys.path.append(os.pardir)\n",
    "import numpy as np\n",
    "from numpy.random import *\n",
    "from scipy import ceil, complex64, float64, hamming, zeros\n",
    "from matplotlib import pylab as plt\n",
    "import xml.etree.ElementTree as et\n",
    "import argparse\n",
    "import time\n",
    "from cmf.cnimf import CNIMF\n",
    "from matplotlib import pylab as plt\n",
    "%matplotlib inline"
   ]
  },
  {
   "cell_type": "code",
   "execution_count": 5,
   "metadata": {
    "collapsed": true
   },
   "outputs": [],
   "source": [
    "convolution_width = 3\n",
    "true_n_components = 2"
   ]
  },
  {
   "cell_type": "code",
   "execution_count": 6,
   "metadata": {
    "collapsed": false
   },
   "outputs": [
    {
     "data": {
      "text/plain": [
       "_StoreAction(option_strings=['-n', '--dat_npz'], dest='dat_npz', nargs='?', const=None, default='structure_result_3_2_201705131410.npz', type=<class 'str'>, choices=None, help='npz file name', metavar=None)"
      ]
     },
     "execution_count": 6,
     "metadata": {},
     "output_type": "execute_result"
    }
   ],
   "source": [
    "parser = argparse.ArgumentParser(description='structure detection test')\n",
    "parser.add_argument('-s', '--seed_number', \\\n",
    "                    action='store', \\\n",
    "                    nargs='?', \\\n",
    "                    const=None, \\\n",
    "                    default=0, \\\n",
    "                    type=int, \\\n",
    "                    choices=None, \\\n",
    "                    help='seed_number', \\\n",
    "                    metavar=None)\n",
    "parser.add_argument('-d', '--dat_dir', \\\n",
    "                    action='store', \\\n",
    "                    nargs='?', \\\n",
    "                    const=None, \\\n",
    "                    default='../dat/structure_detection', \\\n",
    "                    type=str, \\\n",
    "                    choices=None, \\\n",
    "                    help='Directory where npy files will be stored.', \\\n",
    "                    metavar=None)\n",
    "parser.add_argument('-n', '--dat_npz', \\\n",
    "                    action='store', \\\n",
    "                    nargs='?', \\\n",
    "                    const=None, \\\n",
    "                    default='structure_result_{}_{}_{}.npz'.format(convolution_width, true_n_components, time.strftime('%Y%m%d%H%M')), \\\n",
    "                    type=str, \\\n",
    "                    choices=None, \\\n",
    "                    help='npz file name', \\\n",
    "                    metavar=None)\n"
   ]
  },
  {
   "cell_type": "code",
   "execution_count": 7,
   "metadata": {
    "collapsed": false
   },
   "outputs": [],
   "source": [
    "args = parser.parse_args([])"
   ]
  },
  {
   "cell_type": "code",
   "execution_count": 8,
   "metadata": {
    "collapsed": false
   },
   "outputs": [],
   "source": [
    "seed(args.seed_number)\n"
   ]
  },
  {
   "cell_type": "code",
   "execution_count": 10,
   "metadata": {
    "collapsed": false
   },
   "outputs": [
    {
     "name": "stdout",
     "output_type": "stream",
     "text": [
      "ERROR! Session/line number was not unique in database. History logging moved to new session 581\n"
     ]
    }
   ],
   "source": [
    "n_tests = 50\n",
    "n_criteria = 5\n",
    "n_samples_list = [100, 200, 300, 400, 500, 600, 700, 800]\n",
    "missing_rate_list = [0.2, 0.6]\n",
    "data_dim = 12\n",
    "convolution_width = convolution_width\n",
    "true_n_components_list = [true_n_components]\n",
    "gamma_shape = 2.0\n",
    "gamma_rate = 2.0\n",
    "base_max = 10.0\n",
    "best_n_bases = np.zeros([len(true_n_components_list), len(n_samples_list), n_tests, n_criteria])\n",
    "completion_error = np.zeros([len(true_n_components_list), len(missing_rate_list), len(n_samples_list), n_tests, n_criteria])\n",
    "accuracy = np.zeros([len(true_n_components_list), len(n_samples_list), n_criteria])"
   ]
  },
  {
   "cell_type": "code",
   "execution_count": 11,
   "metadata": {
    "collapsed": false,
    "scrolled": true
   },
   "outputs": [
    {
     "name": "stdout",
     "output_type": "stream",
     "text": [
      "Automatic pdb calling has been turned OFF\n",
      "n_samples 100\n",
      "i_test 0\n",
      "0.2\n",
      "[ 1.99789725  1.37436798  1.37436798  1.37436798  1.37436798]\n",
      "0.6\n",
      "[ 0.80011023  0.52909408  0.52909408  0.52909408  0.52909408]\n",
      "i_test 1\n",
      "0.2\n",
      "[ 2.22058273  1.93847039  1.93847039  1.93847039  1.93847039]\n",
      "0.6\n",
      "[ 0.66741646  0.53726445  0.53726445  0.53726445  0.65156225]\n",
      "i_test 2\n",
      "0.2\n",
      "[ 2.34836049  2.07075804  2.07075804  2.07075804  2.07075804]\n",
      "0.6\n",
      "[ 0.67838113  0.51312577  0.51312577  0.51312577  0.51312577]\n",
      "i_test 3\n",
      "0.2\n",
      "[ 2.06664045  1.73873214  1.73873214  1.73873214  1.73873214]\n",
      "0.6\n",
      "[ 0.70314262  0.58572816  0.58572816  0.58572816  0.58572816]\n",
      "i_test 4\n",
      "0.2\n",
      "[ 1.88078717  2.08617218  2.08617218  2.08617218  2.08617218]\n",
      "0.6\n",
      "[ 0.76634902  0.56437242  0.5831577   0.56437242  0.56437242]\n",
      "n_samples 200\n",
      "i_test 0\n",
      "0.2\n",
      "[ 1.89229092  1.6339308   1.59159986  1.59159986  1.59159986]\n",
      "0.6\n",
      "[ 0.69955891  0.54412452  0.54412452  0.50936283  0.50936283]\n",
      "i_test 1\n",
      "0.2\n",
      "[ 1.95708488  1.95708488  1.95708488  1.41676779  1.41676779]\n",
      "0.6\n",
      "[ 0.67965758  0.5496146   0.52045216  0.52045216  0.52045216]\n",
      "i_test 2\n",
      "0.2\n",
      "[ 1.82792095  1.15651959  1.15651959  1.15651959  1.15651959]\n",
      "0.6\n",
      "[ 0.816365    0.53596953  0.53596953  0.53596953  0.63182971]\n",
      "i_test 3\n",
      "0.2\n",
      "[ 1.79801402  1.02050017  1.02050017  1.02050017  1.02050017]\n",
      "0.6\n",
      "[ 0.90296558  0.59263863  0.59263863  0.61665512  0.61665512]\n",
      "i_test 4\n",
      "0.2\n",
      "[ 1.72407383  1.72407383  1.72407383  1.50589873  1.50589873]\n",
      "0.6\n",
      "[ 0.71897887  0.52914535  0.52914535  0.49649301  0.49649301]\n",
      "n_samples 300\n",
      "i_test 0\n",
      "0.2\n",
      "[ 1.78862217  1.73373064  1.73373064  1.24035129  1.24035129]\n",
      "0.6\n",
      "[ 0.82549451  0.67168296  0.48827563  0.48827563  0.48827563]\n",
      "i_test 1\n",
      "0.2\n",
      "[ 2.05188372  1.51949764  1.51949764  1.2620673   1.2620673 ]\n",
      "0.6\n",
      "[ 0.83231728  0.62804345  0.48310851  0.48310851  0.48310851]\n",
      "i_test 2\n",
      "0.2\n",
      "[ 1.82835499  1.92728679  1.30019478  1.30019478  1.30019478]\n",
      "0.6\n",
      "[ 0.93214013  0.73933746  0.54536642  0.54536642  0.51952362]\n",
      "i_test 3\n",
      "0.2\n",
      "[ 1.7529364   1.44694921  1.44694921  1.02338673  1.02338673]\n",
      "0.6\n",
      "[ 0.84828883  0.55006767  0.51858582  0.48953512  0.48953512]\n",
      "i_test 4\n",
      "0.2\n",
      "[ 1.61903817  1.72637211  1.72637211  1.47634478  1.47634478]\n",
      "0.6\n",
      "[ 0.8421648   0.74993796  0.68810149  0.53861122  0.53861122]\n",
      "n_samples 400\n",
      "i_test 0\n",
      "0.2\n",
      "[ 1.62123562  1.69705844  1.69705844  1.23409038  1.23409038]\n",
      "0.6\n",
      "[ 0.81335573  0.67037744  0.67037744  0.49045331  0.49045331]\n",
      "i_test 1\n",
      "0.2\n",
      "[ 1.43564698  1.39756518  1.39756518  1.39756518  1.39756518]\n",
      "0.6\n",
      "[ 0.81196011  0.63085192  0.53530602  0.50022451  0.50022451]\n",
      "i_test 2\n",
      "0.2\n",
      "[ 1.84515104  1.55821178  1.55821178  1.07136949  1.07136949]\n",
      "0.6\n",
      "[ 0.8403509   0.79118278  0.51625465  0.51625465  0.54110707]\n",
      "i_test 3\n",
      "0.2\n",
      "[ 1.74439248  1.59492373  1.59492373  1.59492373  1.25208782]\n",
      "0.6\n",
      "[ 0.85463861  0.88009027  0.53600911  0.52020479  0.52020479]\n",
      "i_test 4\n",
      "0.2\n",
      "[ 1.66933458  1.60021905  1.60021905  1.19232719  1.19232719]\n",
      "0.6\n",
      "[ 0.86613788  0.68288862  0.68288862  0.54546758  0.54546758]\n",
      "n_samples 500\n",
      "i_test 0\n",
      "0.2\n",
      "[ 1.63111709  1.46118641  1.46118641  1.10566324  1.10566324]\n",
      "0.6\n",
      "[ 0.75300311  0.78017838  0.63167849  0.63167849  0.57165937]\n",
      "i_test 1\n",
      "0.2\n",
      "[ 1.74657753  1.86166973  1.86166973  1.86166973  1.27031458]\n",
      "0.6\n",
      "[ 0.79650455  0.82242775  0.51399508  0.51399508  0.51399508]\n",
      "i_test 2\n",
      "0.2\n",
      "[ 1.64993476  1.38788194  1.38788194  1.38788194  1.01311855]\n",
      "0.6\n",
      "[ 0.77088502  0.71776218  0.61026412  0.50696667  0.50696667]\n",
      "i_test 3\n",
      "0.2\n",
      "[ 1.73622448  1.89499662  1.89499662  1.89499662  1.35164187]\n",
      "0.6\n",
      "[ 0.87084023  0.86147793  0.70390236  0.51583422  0.51583422]\n",
      "i_test 4\n",
      "0.2\n",
      "[ 1.51928045  1.45705455  1.45705455  1.45705455  1.13206761]\n",
      "0.6\n",
      "[ 0.74226153  0.76957499  0.53075806  0.49803329  0.49803329]\n",
      "n_samples 600\n",
      "i_test 0\n",
      "0.2\n",
      "[ 1.55173979  1.48901024  1.48901024  1.07189845  1.07189845]\n",
      "0.6\n",
      "[ 0.828315    0.75937853  0.59403207  0.50012767  0.50012767]\n",
      "i_test 1\n",
      "0.2\n",
      "[ 1.66404269  1.69332856  1.49286696  1.49286696  1.07039691]\n",
      "0.6\n",
      "[ 0.83253852  0.71444811  0.58723455  0.48629011  0.48629011]\n",
      "i_test 2\n",
      "0.2\n",
      "[ 1.5913083   1.54255664  1.48538724  1.48538724  1.02676532]\n",
      "0.6\n",
      "[ 0.77934218  0.81785444  0.57962557  0.57962557  0.57962557]\n",
      "i_test 3\n",
      "0.2\n",
      "[ 1.57269027  1.30901176  1.30901176  0.94018079  0.94018079]\n",
      "0.6\n",
      "[ 0.80009797  0.80115961  0.546048    0.546048    0.51331203]\n",
      "i_test 4\n",
      "0.2\n",
      "[ 1.63535713  1.56211935  1.52356666  1.52356666  1.04224298]\n",
      "0.6\n",
      "[ 0.9164493   0.80861065  0.51361657  0.51361657  0.51361657]\n",
      "n_samples 700\n",
      "i_test 0\n",
      "0.2\n",
      "[ 1.88274709  1.63700306  1.6639023   1.6639023   1.6639023 ]\n",
      "0.6\n",
      "[ 0.86423437  0.81404712  0.50525994  0.50525994  0.50525994]\n",
      "i_test 1\n",
      "0.2\n",
      "[ 1.64507382  1.61224436  1.37767497  0.98820989  0.98820989]\n",
      "0.6\n",
      "[ 0.78671087  0.72748909  0.51359534  0.51359534  0.51020778]\n",
      "i_test 2\n",
      "0.2\n",
      "[ 1.65455836  1.66276014  1.57465464  1.57465464  1.20654298]\n",
      "0.6\n",
      "[ 0.81569539  0.84086161  0.57339387  0.57339387  0.57339387]\n",
      "i_test 3\n",
      "0.2\n",
      "[ 1.65954625  1.75629287  1.75823118  1.75823118  1.15524074]\n",
      "0.6\n",
      "[ 0.82487251  0.82336346  0.52068725  0.52068725  0.49594702]\n",
      "i_test 4\n",
      "0.2\n",
      "[ 1.59808617  1.75779183  1.71758231  1.17338446  1.17338446]\n",
      "0.6\n",
      "[ 0.78278058  0.83800962  0.54894352  0.5035776   0.5035776 ]\n",
      "n_samples 800\n",
      "i_test 0\n",
      "0.2\n",
      "[ 1.52573063  1.63201076  1.47807542  1.47807542  1.07164952]\n",
      "0.6\n",
      "[ 0.81763776  0.86655108  0.63080645  0.54495111  0.54495111]\n",
      "i_test 1\n",
      "0.2\n",
      "[ 1.63987861  1.5657262   1.33964522  1.33964522  1.33964522]\n",
      "0.6\n",
      "[ 0.83351177  0.84458857  0.64091038  0.54789151  0.54789151]\n",
      "i_test 2\n",
      "0.2\n",
      "[ 1.45756501  1.44515147  1.39979883  0.96772035  0.96772035]\n",
      "0.6\n",
      "[ 0.76946168  0.85088787  0.57108596  0.48865676  0.48865676]\n",
      "i_test 3\n",
      "0.2\n",
      "[ 1.66847914  1.52559696  1.60922649  1.60922649  0.99037818]\n",
      "0.6\n",
      "[ 0.83765755  0.81526573  0.50806802  0.50806802  0.497249  ]\n",
      "i_test 4\n",
      "0.2\n",
      "[ 1.62216386  1.62207373  1.40672892  1.40672892  1.40672892]\n",
      "0.6\n",
      "[ 0.84069741  0.91088843  0.55531143  0.55531143  0.50938615]\n"
     ]
    }
   ],
   "source": [
    "# %pdb\n",
    "# import warnings\n",
    "# warnings.filterwarnings('error')\n",
    "for i_n_components in range(len(true_n_components_list)):\n",
    "    true_n_components = true_n_components_list[i_n_components]\n",
    "    for i_n_samples in range(len(n_samples_list)):\n",
    "        n_samples = n_samples_list[i_n_samples]\n",
    "        print('n_samples', n_samples)\n",
    "        for i_test in range(n_tests):\n",
    "            print('i_test', i_test)\n",
    "            true_activation = np.random.gamma(gamma_shape, 1.0 / gamma_rate, [n_samples, true_n_components])\n",
    "            true_base = np.random.uniform(0.0, base_max, [convolution_width, true_n_components, data_dim])\n",
    "            X = np.random.poisson(CNIMF.convolute(true_activation, true_base))\n",
    "            arg_dict = dict(\n",
    "                convolution_max = convolution_width,\n",
    "                component_max = X.shape[1],\n",
    "                true_width = convolution_width,\n",
    "                gamma_shape = gamma_shape,\n",
    "                gamma_rate = gamma_rate,\n",
    "                base_max = base_max,\n",
    "                convergence_threshold = 0.00001,\n",
    "                loop_max = 1000)\n",
    "            factorizer = CNIMF(**arg_dict)\n",
    "            filtre = np.ones(X.shape)\n",
    "            factorizer.fit(X, None, filtre)\n",
    "            for i_criterion in range(n_criteria):\n",
    "                best_n_bases[i_n_components, i_n_samples, i_test, i_criterion] = factorizer.criteria[i_criterion].best_structure[1]\n",
    "            for i_missing_rate in range(len(missing_rate_list)):\n",
    "                missing_rate = missing_rate_list[i_missing_rate]\n",
    "                print(missing_rate)\n",
    "                factorizer = CNIMF(**arg_dict)\n",
    "                filtre = np.random.binomial(1, missing_rate, X.shape)\n",
    "                factorizer.fit(X, None, filtre)\n",
    "                for i_criterion in range(n_criteria):\n",
    "                    completion_error[i_n_components, i_missing_rate, i_n_samples, i_test, i_criterion] = factorizer.criteria[i_criterion].completion_error/np.prod(X.shape)\n",
    "                print(completion_error[i_n_components, i_missing_rate, i_n_samples, i_test, :])\n",
    "    accuracy[i_n_components, :, :] = np.mean(best_n_bases[i_n_components, :, :, :]==true_n_components, axis = 1)"
   ]
  },
  {
   "cell_type": "code",
   "execution_count": 12,
   "metadata": {
    "collapsed": false
   },
   "outputs": [],
   "source": [
    "np.savez(args.dat_dir + '/' + args.dat_npz,\n",
    "         accuracy=accuracy,\n",
    "         completion_error=completion_error,\n",
    "         best_n_bases=best_n_bases,\n",
    "         n_samples_list = n_samples_list,\n",
    "         missing_rate_list = missing_rate_list, \n",
    "         true_n_components_list = true_n_components_list,\n",
    "         convolution_width = convolution_width)"
   ]
  },
  {
   "cell_type": "code",
   "execution_count": 8,
   "metadata": {
    "collapsed": false
   },
   "outputs": [],
   "source": [
    "# npz = np.load(args.dat_dir + '/artificial_result_201701210117.npz')"
   ]
  },
  {
   "cell_type": "code",
   "execution_count": 9,
   "metadata": {
    "collapsed": false,
    "scrolled": true
   },
   "outputs": [
    {
     "data": {
      "text/plain": [
       "array([[[ 0.  ,  0.72,  0.52,  0.72,  0.98],\n",
       "        [ 0.  ,  0.  ,  0.12,  0.68,  0.84],\n",
       "        [ 0.  ,  0.  ,  0.02,  0.78,  0.86],\n",
       "        [ 0.  ,  0.  ,  0.  ,  0.4 ,  0.72]]])"
      ]
     },
     "execution_count": 9,
     "metadata": {},
     "output_type": "execute_result"
    }
   ],
   "source": [
    "accuracy"
   ]
  },
  {
   "cell_type": "code",
   "execution_count": 10,
   "metadata": {
    "collapsed": false
   },
   "outputs": [
    {
     "data": {
      "text/plain": [
       "array([[[[[ 1.84991348,  1.61879796,  1.61879796,  1.61879796,  1.61879796],\n",
       "          [ 2.03992397,  1.71032427,  1.71032427,  1.71032427,  1.71032427],\n",
       "          [ 2.20511493,  1.46298523,  1.46298523,  1.46298523,  1.46298523],\n",
       "          ..., \n",
       "          [ 1.49854175,  1.25669695,  1.25669695,  1.25669695,  1.25669695],\n",
       "          [ 1.64325071,  1.52595288,  1.52595288,  1.52595288,  1.52595288],\n",
       "          [ 1.52899464,  1.25937433,  1.25937433,  1.25937433,  1.25937433]],\n",
       "\n",
       "         [[ 1.61242577,  1.35933235,  1.35933235,  1.35933235,  1.35933235],\n",
       "          [ 1.92311448,  1.92311448,  1.92311448,  1.30815628,  1.30815628],\n",
       "          [ 1.52759449,  1.52759449,  1.12129044,  1.12129044,  1.12129044],\n",
       "          ..., \n",
       "          [ 1.68533219,  1.68533219,  1.68533219,  1.01119702,  1.01119702],\n",
       "          [ 1.49803414,  1.49803414,  1.49803414,  1.06583992,  1.06583992],\n",
       "          [ 1.45712921,  1.27013032,  1.27013032,  1.27013032,  1.27013032]],\n",
       "\n",
       "         [[ 1.50000114,  1.5195288 ,  1.5195288 ,  1.5195288 ,  1.28689181],\n",
       "          [ 1.77537945,  1.80851922,  1.80851922,  1.27159014,  1.27159014],\n",
       "          [ 1.70016904,  1.58665673,  1.58665673,  1.01583871,  1.01583871],\n",
       "          ..., \n",
       "          [ 1.5608164 ,  1.39246464,  1.39246464,  1.06372586,  1.06372586],\n",
       "          [ 1.88405919,  1.7411392 ,  1.7411392 ,  1.34600418,  1.34600418],\n",
       "          [ 1.59245514,  1.45723457,  1.45723457,  1.11269078,  1.11269078]],\n",
       "\n",
       "         [[ 1.7285601 ,  2.12187885,  2.12187885,  2.12187885,  1.67225516],\n",
       "          [ 1.68485511,  1.79156567,  1.79156567,  1.04047642,  1.04047642],\n",
       "          [ 1.50315602,  1.62788507,  1.24173693,  1.24173693,  1.24173693],\n",
       "          ..., \n",
       "          [ 1.58359277,  1.83613467,  1.83613467,  1.83613467,  1.29154418],\n",
       "          [ 1.86921146,  1.72579305,  1.72579305,  1.17468315,  1.17468315],\n",
       "          [ 1.34704285,  1.47166718,  1.47166718,  1.12571074,  1.12571074]]],\n",
       "\n",
       "\n",
       "        [[[ 0.61878732,  0.53122981,  0.53122981,  0.53122981,  0.53122981],\n",
       "          [ 0.64423282,  0.60486615,  0.60486615,  0.60486615,  0.60486615],\n",
       "          [ 0.6410518 ,  0.62218278,  0.62218278,  0.62218278,  0.65029544],\n",
       "          ..., \n",
       "          [ 0.68256792,  0.60290011,  0.60290011,  0.60290011,  0.64374447],\n",
       "          [ 0.67894067,  0.5456059 ,  0.5456059 ,  0.5456059 ,  0.66271365],\n",
       "          [ 0.67108428,  0.63686152,  0.63686152,  0.63686152,  0.63686152]],\n",
       "\n",
       "         [[ 0.75191016,  0.59943645,  0.58146927,  0.53332719,  0.53332719],\n",
       "          [ 0.88597272,  0.74425935,  0.58268238,  0.58268238,  0.58268238],\n",
       "          [ 0.67727699,  0.51655096,  0.51655096,  0.56476022,  0.59175942],\n",
       "          ..., \n",
       "          [ 0.69117608,  0.49954458,  0.49954458,  0.48386658,  0.48386658],\n",
       "          [ 0.69961085,  0.5303816 ,  0.49817412,  0.49817412,  0.49817412],\n",
       "          [ 0.66138237,  0.5681794 ,  0.5681794 ,  0.58394548,  0.61724658]],\n",
       "\n",
       "         [[ 0.73053607,  0.68368879,  0.50872062,  0.48145967,  0.48145967],\n",
       "          [ 0.84911247,  0.52941174,  0.57039055,  0.54299841,  0.54299841],\n",
       "          [ 0.77310466,  0.72161535,  0.55123084,  0.56182573,  0.56182573],\n",
       "          ..., \n",
       "          [ 0.86140712,  0.67008952,  0.50867791,  0.49686162,  0.49686162],\n",
       "          [ 0.72426907,  0.64530974,  0.50101481,  0.50101481,  0.50101481],\n",
       "          [ 0.77211202,  0.61891509,  0.52276228,  0.5137653 ,  0.5137653 ]],\n",
       "\n",
       "         [[ 0.85881556,  0.74846856,  0.47250285,  0.47250285,  0.47250285],\n",
       "          [ 0.81372742,  0.66105244,  0.55348653,  0.51628612,  0.51628612],\n",
       "          [ 0.74456449,  0.66439207,  0.57990402,  0.49190414,  0.49190414],\n",
       "          ..., \n",
       "          [ 0.80173391,  0.74293972,  0.58259866,  0.52168367,  0.52168367],\n",
       "          [ 0.90281256,  0.68879863,  0.65710407,  0.51080818,  0.51080818],\n",
       "          [ 0.76703703,  0.78673938,  0.5466435 ,  0.5466435 ,  0.51165314]]]]])"
      ]
     },
     "execution_count": 10,
     "metadata": {},
     "output_type": "execute_result"
    }
   ],
   "source": [
    "completion_error"
   ]
  },
  {
   "cell_type": "code",
   "execution_count": null,
   "metadata": {
    "collapsed": true
   },
   "outputs": [],
   "source": []
  }
 ],
 "metadata": {
  "anaconda-cloud": {},
  "kernelspec": {
   "display_name": "Python 3",
   "language": "python",
   "name": "python3"
  },
  "language_info": {
   "codemirror_mode": {
    "name": "ipython",
    "version": 3
   },
   "file_extension": ".py",
   "mimetype": "text/x-python",
   "name": "python",
   "nbconvert_exporter": "python",
   "pygments_lexer": "ipython3",
   "version": "3.5.2"
  }
 },
 "nbformat": 4,
 "nbformat_minor": 0
}
