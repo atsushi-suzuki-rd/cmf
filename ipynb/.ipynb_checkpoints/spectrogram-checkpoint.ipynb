{
 "cells": [
  {
   "cell_type": "code",
   "execution_count": 26,
   "metadata": {
    "collapsed": false
   },
   "outputs": [],
   "source": [
    "# -*- coding: utf-8 -*-\n",
    "import sys\n",
    "import argparse\n",
    "import os.path\n",
    "import numpy as np\n",
    "from scipy import ceil, complex64, float64, hamming, zeros, fromstring\n",
    "from scipy.signal import get_window, stft\n",
    "from numpy.random import seed, randint\n",
    "import matplotlib\n",
    "sys.path.append('..')\n",
    "%matplotlib inline\n",
    "from matplotlib import pylab as plt\n",
    "from scipy.io.wavfile import read\n",
    "from cmf.cnimf import CNIMF\n",
    "import json\n",
    "import pickle"
   ]
  },
  {
   "cell_type": "code",
   "execution_count": 27,
   "metadata": {
    "collapsed": false
   },
   "outputs": [
    {
     "data": {
      "text/plain": [
       "_StoreAction(option_strings=['-lo', '--noverlap'], dest='noverlap', nargs='?', const=None, default=None, type=<class 'int'>, choices=None, help='the number of samples per segment', metavar=None)"
      ]
     },
     "execution_count": 27,
     "metadata": {},
     "output_type": "execute_result"
    }
   ],
   "source": [
    "parser = argparse.ArgumentParser(description='Decompose stereo wav file by CNMF.')\n",
    "parser.add_argument('wav_file_name', \\\n",
    "                    action='store', \\\n",
    "                    nargs=None, \\\n",
    "                    const=None, \\\n",
    "                    default=None, \\\n",
    "                    type=str, \\\n",
    "                    choices=None, \\\n",
    "                    help='wav file name', \\\n",
    "                    metavar=None)\n",
    "parser.add_argument('-s', '--seed_number', \\\n",
    "                    action='store', \\\n",
    "                    nargs='?', \\\n",
    "                    const=None, \\\n",
    "                    default=0, \\\n",
    "                    type=int, \\\n",
    "                    choices=None, \\\n",
    "                    help='seed_number', \\\n",
    "                    metavar=None)\n",
    "parser.add_argument('-c', '--component_max', \\\n",
    "                    action='store', \\\n",
    "                    nargs='?', \\\n",
    "                    const=None, \\\n",
    "                    default=24, \\\n",
    "                    type=int, \\\n",
    "                    choices=None, \\\n",
    "                    help='the maximum of candidate number of component', \\\n",
    "                    metavar=None)\n",
    "parser.add_argument('-w', '--convolution_width', \\\n",
    "                    action='store', \\\n",
    "                    nargs='?', \\\n",
    "                    const=None, \\\n",
    "                    default=32, \\\n",
    "                    type=int, \\\n",
    "                    choices=None, \\\n",
    "                    help='the convolution width in CNMF', \\\n",
    "                    metavar=None)\n",
    "parser.add_argument('-l', '--loop_max', \\\n",
    "                    action='store', \\\n",
    "                    nargs='?', \\\n",
    "                    const=None, \\\n",
    "                    default=100, \\\n",
    "                    type=int, \\\n",
    "                    choices=None, \\\n",
    "                    help='the maximum number of loop iteration', \\\n",
    "                    metavar=None)\n",
    "parser.add_argument('-b', '--base_max', \\\n",
    "                    action='store', \\\n",
    "                    nargs='?', \\\n",
    "                    const=None, \\\n",
    "                    default=100.0, \\\n",
    "                    type=float, \\\n",
    "                    choices=None, \\\n",
    "                    help='the maximum of possible value in bases. This value is used only in model selection and not used in parameter estimation.', \\\n",
    "                    metavar=None)\n",
    "parser.add_argument('-pd', '--pickle_dir', \\\n",
    "                    action='store', \\\n",
    "                    nargs='?', \\\n",
    "                    const=None, \\\n",
    "                    default='../dat/spectrogram/pickle', \\\n",
    "                    type=str, \\\n",
    "                    choices=None, \\\n",
    "                    help='Directory name where pickle files are stored.', \\\n",
    "                    metavar=None)\n",
    "parser.add_argument('-jd', '--json_dir', \\\n",
    "                    action='store', \\\n",
    "                    nargs='?', \\\n",
    "                    const=None, \\\n",
    "                    default='../dat/spectrogram/json', \\\n",
    "                    type=str, \\\n",
    "                    choices=None, \\\n",
    "                    help='Directory name where npy files are stored.', \\\n",
    "                    metavar=None)\n",
    "parser.add_argument('-ss', '--sampling_step', \\\n",
    "                    action='store', \\\n",
    "                    nargs='?', \\\n",
    "                    const=None, \\\n",
    "                    default=4, \\\n",
    "                    type=int, \\\n",
    "                    choices=None, \\\n",
    "                    help='sampling step.', \\\n",
    "                    metavar=None)\n",
    "parser.add_argument('-tr', '--training_second', \\\n",
    "                    action='store', \\\n",
    "                    nargs='?', \\\n",
    "                    const=None, \\\n",
    "                    default=20, \\\n",
    "                    type=int, \\\n",
    "                    choices=None, \\\n",
    "                    help='length of training area (sec)', \\\n",
    "                    metavar=None)\n",
    "parser.add_argument('-te', '--test_second', \\\n",
    "                    action='store', \\\n",
    "                    nargs='?', \\\n",
    "                    const=None, \\\n",
    "                    default=20, \\\n",
    "                    type=int, \\\n",
    "                    choices=None, \\\n",
    "                    help='length of test area (sec)', \\\n",
    "                    metavar=None)\n",
    "parser.add_argument('-ds', '--down_sampling_step', \\\n",
    "                    action='store', \\\n",
    "                    nargs='?', \\\n",
    "                    const=None, \\\n",
    "                    default=2, \\\n",
    "                    type=int, \\\n",
    "                    choices=None, \\\n",
    "                    help='sampling step in down-sampled area.', \\\n",
    "                    metavar=None)\n",
    "parser.add_argument('-ns', '--nperseg', \\\n",
    "                    action='store', \\\n",
    "                    nargs='?', \\\n",
    "                    const=None, \\\n",
    "                    default=256, \\\n",
    "                    type=int, \\\n",
    "                    choices=None, \\\n",
    "                    help='the number of samples per segment', \\\n",
    "                    metavar=None)\n",
    "parser.add_argument('-lo', '--noverlap', \\\n",
    "                    action='store', \\\n",
    "                    nargs='?', \\\n",
    "                    const=None, \\\n",
    "                    default=None, \\\n",
    "                    type=int, \\\n",
    "                    choices=None, \\\n",
    "                    help='the number of samples per segment', \\\n",
    "                    metavar=None)\n"
   ]
  },
  {
   "cell_type": "code",
   "execution_count": 28,
   "metadata": {
    "collapsed": false
   },
   "outputs": [],
   "source": [
    "args = parser.parse_args(['D:/ash_dat/cg/wav2/tulip.wav', '-tr', '20', '-te', '10'])"
   ]
  },
  {
   "cell_type": "code",
   "execution_count": 4,
   "metadata": {
    "collapsed": false
   },
   "outputs": [],
   "source": [
    "wav_file_name = args.wav_file_name\n",
    "seed_number = args.seed_number\n",
    "# os.mkdir(npy_dir)\n",
    "seed(seed_number)"
   ]
  },
  {
   "cell_type": "code",
   "execution_count": 5,
   "metadata": {
    "collapsed": false
   },
   "outputs": [],
   "source": [
    "fs, x_stereo = read(wav_file_name)\n",
    "sampling_step = args.sampling_step\n",
    "x = np.mean(x_stereo[::sampling_step, :], axis=1)\n",
    "len_x = len(x)"
   ]
  },
  {
   "cell_type": "code",
   "execution_count": 6,
   "metadata": {
    "collapsed": false
   },
   "outputs": [
    {
     "name": "stdout",
     "output_type": "stream",
     "text": [
      "220416 110080\n"
     ]
    }
   ],
   "source": [
    "nperseg = args.nperseg\n",
    "if args.noverlap is None:\n",
    "    noverlap = nperseg // 2\n",
    "else:\n",
    "    noverlap = args.noverlap\n",
    "offset = nperseg // 2\n",
    "train_length = (((fs // sampling_step) * args.training_second) // nperseg) * nperseg\n",
    "test_length = (((fs // sampling_step) * args.test_second) // nperseg) * nperseg\n",
    "print(train_length, test_length)"
   ]
  },
  {
   "cell_type": "code",
   "execution_count": 7,
   "metadata": {
    "collapsed": false
   },
   "outputs": [],
   "source": [
    "train_start_center = randint(nperseg, len_x - nperseg)\n",
    "train_end_center = train_start_center + train_length\n",
    "train_start = train_start_center - offset\n",
    "train_end = train_end_center + offset\n",
    "test_start_center = randint(nperseg, len_x - nperseg)\n",
    "test_end_center = test_start_center + test_length\n",
    "test_start = test_start_center - offset\n",
    "test_end = test_end_center + offset\n",
    "while train_start < test_end and train_end > test_start:\n",
    "    test_start_center = randint(nperseg, x_len - nperseg)\n",
    "    test_end_center = test_start_center + test_length\n",
    "    test_start = test_start_center - offset\n",
    "    test_end = test_end_center + offset\n",
    "    "
   ]
  },
  {
   "cell_type": "code",
   "execution_count": 8,
   "metadata": {
    "collapsed": false
   },
   "outputs": [],
   "source": [
    "x_train = x[train_start:train_end]\n",
    "x_test = x[test_start:test_end]\n",
    "down_sampling_step = args.down_sampling_step\n",
    "nperseg_for_down_sampled = nperseg // down_sampling_step\n",
    "noverlap_for_down_sampled = noverlap // down_sampling_step\n",
    "x_test_down_sampled = x[test_start:test_end:down_sampling_step]\n"
   ]
  },
  {
   "cell_type": "code",
   "execution_count": 9,
   "metadata": {
    "collapsed": true
   },
   "outputs": [],
   "source": [
    "(_, _, train_spec) = stft(x_train, fs, window='hann', nperseg=nperseg, noverlap=noverlap)\n",
    "(_, _, test_spec) = stft(x_test, fs, window='hann', nperseg=nperseg, noverlap=noverlap)\n",
    "(_, _, test_down_sampled_spec) = stft(x_test_down_sampled, fs, window='hann', nperseg=nperseg_for_down_sampled, noverlap=noverlap_for_down_sampled)"
   ]
  },
  {
   "cell_type": "code",
   "execution_count": null,
   "metadata": {
    "collapsed": true
   },
   "outputs": [],
   "source": [
    "filtred = np.zeros(test_spec.shape)\n",
    "filtred[:test_down_sampled_spec.shape[0],:] = np.abs(test_down_sampled_spec)\n",
    "filtre = np.zeros(test_spec.shape)\n",
    "filtre[:test_down_sampled_spec.shape[0],:] = 1\n"
   ]
  },
  {
   "cell_type": "code",
   "execution_count": null,
   "metadata": {
    "collapsed": true
   },
   "outputs": [],
   "source": [
    "true_width = args.convolution_width\n",
    "component_max = args.component_max"
   ]
  },
  {
   "cell_type": "code",
   "execution_count": null,
   "metadata": {
    "collapsed": true
   },
   "outputs": [],
   "source": [
    "nmf = CNIMF(true_width=1, verbose=0, component_max=component_max)"
   ]
  },
  {
   "cell_type": "code",
   "execution_count": null,
   "metadata": {
    "collapsed": true
   },
   "outputs": [],
   "source": [
    "nmf.fit(np.abs(train_spec).T)"
   ]
  },
  {
   "cell_type": "code",
   "execution_count": null,
   "metadata": {
    "collapsed": true
   },
   "outputs": [],
   "source": [
    "nmf.transfer(filtred.T, transfer_filtre=filtre.T)"
   ]
  },
  {
   "cell_type": "code",
   "execution_count": null,
   "metadata": {
    "collapsed": true
   },
   "outputs": [],
   "source": [
    "nmf_criteria_completion = nmf.evaluate_criteria(abs(test_spec).T, filtre.T)"
   ]
  },
  {
   "cell_type": "code",
   "execution_count": null,
   "metadata": {
    "collapsed": true
   },
   "outputs": [],
   "source": [
    "json_file_path = args.json_dir + '/' + 'nmf_criteria_completion.json'\n",
    "with open(json_file_path, 'w') as f:\n",
    "    json.dump(nmf_criteria_completion, f)"
   ]
  },
  {
   "cell_type": "code",
   "execution_count": null,
   "metadata": {
    "collapsed": true
   },
   "outputs": [],
   "source": [
    "pickle_file_path = args.pickle_dir + '/' + 'nmf.pickle'\n",
    "with open(pickle_file_path, 'wb') as f:\n",
    "    pickle.dump(nmf, f)"
   ]
  },
  {
   "cell_type": "code",
   "execution_count": 10,
   "metadata": {
    "collapsed": true
   },
   "outputs": [],
   "source": [
    "cnimf = CNIMF(true_width=true_width, verbose=0, component_max=component_max)"
   ]
  },
  {
   "cell_type": "code",
   "execution_count": 11,
   "metadata": {
    "collapsed": false,
    "scrolled": false
   },
   "outputs": [],
   "source": [
    "cnimf.fit(np.abs(train_spec).T)"
   ]
  },
  {
   "cell_type": "code",
   "execution_count": 13,
   "metadata": {
    "collapsed": false,
    "scrolled": true
   },
   "outputs": [],
   "source": [
    "cnimf.transfer(filtred.T, transfer_filtre=filtre.T)"
   ]
  },
  {
   "cell_type": "code",
   "execution_count": 17,
   "metadata": {
    "collapsed": false
   },
   "outputs": [],
   "source": [
    "cnimf_criteria_completion = cnimf.evaluate_criteria(abs(test_spec).T, filtre.T)"
   ]
  },
  {
   "cell_type": "code",
   "execution_count": 24,
   "metadata": {
    "collapsed": false
   },
   "outputs": [],
   "source": [
    "json_file_path = args.json_dir + '/' + 'cnimf_criteria_completion.json'\n",
    "with open(json_file_path, 'w') as f:\n",
    "    json.dump(cnimf_criteria_completion, f)"
   ]
  },
  {
   "cell_type": "code",
   "execution_count": 31,
   "metadata": {
    "collapsed": false
   },
   "outputs": [],
   "source": [
    "pickle_file_path = args.pickle_dir + '/' + 'cnimf.pickle'\n",
    "with open(pickle_file_path, 'wb') as f:\n",
    "    pickle.dump(cnimf, f)"
   ]
  },
  {
   "cell_type": "code",
   "execution_count": null,
   "metadata": {
    "collapsed": true
   },
   "outputs": [],
   "source": []
  }
 ],
 "metadata": {
  "kernelspec": {
   "display_name": "Python 3",
   "language": "python",
   "name": "python3"
  },
  "language_info": {
   "codemirror_mode": {
    "name": "ipython",
    "version": 3
   },
   "file_extension": ".py",
   "mimetype": "text/x-python",
   "name": "python",
   "nbconvert_exporter": "python",
   "pygments_lexer": "ipython3",
   "version": "3.5.2"
  }
 },
 "nbformat": 4,
 "nbformat_minor": 2
}
